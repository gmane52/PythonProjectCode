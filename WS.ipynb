{
 "cells": [
  {
   "cell_type": "code",
   "execution_count": 1,
   "metadata": {},
   "outputs": [],
   "source": [
    "import pandas as pd # Dataframes\n",
    "import numpy as np  # Vectores\n",
    "import glob         # gestionar la carga de ficheros csv con el directorio\n"
   ]
  },
  {
   "cell_type": "code",
   "execution_count": 21,
   "metadata": {},
   "outputs": [],
   "source": [
    "#1 Load csv de un directorio con pandas\n",
    "\n",
    "directory = r'C:\\Users\\figol\\OneDrive\\Escritorio\\git_gmane\\Proyecto_DAATES\\*.csv'\n",
    "files = glob.glob(directory)\n",
    "listaArchivos = []\n",
    "for file in files:\n",
    "    listaArchivos.append(file)\n",
    "\n",
    "names = ['id','name','geoid','geoname','value','datetime']\n",
    "df = pd.DataFrame(columns=names) \n",
    "\n",
    "i = 0\n",
    "while listaArchivos:\n",
    "    filename = listaArchivos.pop(0)\n",
    "    df_temp = pd.read_csv(filename, sep=';', names=names)\n",
    "    df = pd.concat([df, df_temp], ignore_index=True)\n",
    "\n",
    "del i,df_temp,listaArchivos,files,filename,file,directory # Elimino variables locales"
   ]
  },
  {
   "cell_type": "code",
   "execution_count": 26,
   "metadata": {},
   "outputs": [],
   "source": [
    "#2 EDA\n",
    "#2.1 Data cleaning\n",
    "df['value'] = pd.to_numeric(df['value'], errors='coerce') # Casting de la variable 'value' con gestion de errores pasandolo a NA\n",
    "\n"
   ]
  },
  {
   "cell_type": "code",
   "execution_count": 27,
   "metadata": {},
   "outputs": [
    {
     "name": "stdout",
     "output_type": "stream",
     "text": [
      "\n",
      "SHAPE:\n",
      "(43805, 6)\n",
      "\n",
      "VALORES NULL:\n",
      "id          0\n",
      "name        0\n",
      "geoid       0\n",
      "geoname     0\n",
      "value       5\n",
      "datetime    0\n",
      "dtype: int64\n",
      "\n",
      "VALORES UNICOS:\n",
      "id              2\n",
      "name            2\n",
      "geoid           2\n",
      "geoname         2\n",
      "value       14921\n",
      "datetime    43801\n",
      "dtype: int64\n",
      "\n",
      "\n",
      "Valores únicos en id:\n",
      "['id' '600']\n",
      "Valores únicos en name:\n",
      "['name' 'Precio mercado SPOT Diario España']\n",
      "Valores únicos en geoid:\n",
      "['geoid' '3']\n",
      "Valores únicos en geoname:\n",
      "['geoname' 'España']\n",
      "Valores únicos en value:\n",
      "[  nan 66.88 66.   ... 10.06 63.84 92.97]\n",
      "Valores únicos en datetime:\n",
      "['datetime' '2019-01-01T00:00:00+01:00' '2019-01-01T01:00:00+01:00' ...\n",
      " '2023-12-31T21:00:00+01:00' '2023-12-31T22:00:00+01:00'\n",
      " '2023-12-31T23:00:00+01:00']\n",
      "\n",
      "TIPOS DE DATOS:\n",
      "id           object\n",
      "name         object\n",
      "geoid        object\n",
      "geoname      object\n",
      "value       float64\n",
      "datetime     object\n",
      "dtype: object\n"
     ]
    }
   ],
   "source": [
    "##2.2 PEAK\n",
    "print(\"\\n\" + \"SHAPE:\")\n",
    "print(df.shape)\n",
    "\n",
    "print(\"\\n\" + \"VALORES NULL:\")\n",
    "print(df.isnull().sum())\n",
    "\n",
    "print(\"\\n\" + \"VALORES UNICOS:\")\n",
    "print(df.nunique())\n",
    "print(\"\\n\")\n",
    "for columna in names:\n",
    "    print(f\"Valores únicos en {columna}:\")\n",
    "    print(df[columna].unique())\n",
    "\n",
    "print(\"\\n\" + \"TIPOS DE DATOS:\")\n",
    "print(df.dtypes)\n",
    "\n",
    "\n"
   ]
  },
  {
   "cell_type": "code",
   "execution_count": null,
   "metadata": {},
   "outputs": [],
   "source": [
    "#2.3 Descriptive study\n",
    "\n",
    "\n"
   ]
  }
 ],
 "metadata": {
  "kernelspec": {
   "display_name": "Python 3",
   "language": "python",
   "name": "python3"
  },
  "language_info": {
   "codemirror_mode": {
    "name": "ipython",
    "version": 3
   },
   "file_extension": ".py",
   "mimetype": "text/x-python",
   "name": "python",
   "nbconvert_exporter": "python",
   "pygments_lexer": "ipython3",
   "version": "3.11.9"
  }
 },
 "nbformat": 4,
 "nbformat_minor": 2
}
