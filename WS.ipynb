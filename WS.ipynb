{
 "cells": [
  {
   "cell_type": "code",
   "execution_count": 1,
   "metadata": {},
   "outputs": [],
   "source": [
    "import pandas as pd\n",
    "import numpy as np\n",
    "import glob\n"
   ]
  },
  {
   "cell_type": "code",
   "execution_count": 6,
   "metadata": {},
   "outputs": [],
   "source": [
    "#Load csv de un directorio con pandas\n",
    "\n",
    "directory = r'C:\\Users\\figol\\OneDrive\\Escritorio\\git_gmane\\Proyecto_DAATES\\*.csv'\n",
    "files = glob.glob(directory)\n",
    "listaArchivos = []\n",
    "\n",
    "for file in files:\n",
    "    listaArchivos.append(file)\n",
    "\n",
    "names = ['id','name','geoid','geoname','value','datetime']\n",
    "df = pd.DataFrame(columns=names) \n",
    "i = 0\n",
    "while listaArchivos:\n",
    "    filename = listaArchivos.pop(0)\n",
    "    df_temp = pd.read_csv(filename, sep=';', names=names)\n",
    "    df = pd.concat([df, df_temp], ignore_index=True)\n",
    "\n",
    "del i,df_temp,listaArchivos,files,filename,file,directory,names\n"
   ]
  }
 ],
 "metadata": {
  "kernelspec": {
   "display_name": "Python 3",
   "language": "python",
   "name": "python3"
  },
  "language_info": {
   "codemirror_mode": {
    "name": "ipython",
    "version": 3
   },
   "file_extension": ".py",
   "mimetype": "text/x-python",
   "name": "python",
   "nbconvert_exporter": "python",
   "pygments_lexer": "ipython3",
   "version": "3.11.9"
  }
 },
 "nbformat": 4,
 "nbformat_minor": 2
}
