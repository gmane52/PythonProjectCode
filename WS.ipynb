{
 "cells": [
  {
   "cell_type": "markdown",
   "metadata": {},
   "source": [
    "Final project     \n",
    "Data science for electrical energy systems  \n",
    "\n",
    "Analyzing Electricity Market data using Machine Learning \n",
    "\n",
    "The electricity market is influenced by various factors such as demand, renewable energy generation, \n",
    "weather conditions, and fuel prices. Accurate forecasting and analysis are crucial for market participants to \n",
    "optimize operations and make informed decisions. \n",
    "\n",
    "Objective \n",
    "Work with Spanish historical electricity market data (find it on the ESIOS-REE webpage) to: \n",
    "• Supervised Learning (Regression): Predict the day-ahead spot electricity price in Spain. \n",
    "• Unsupervised Learning (Clustering): Group daily electricity price profiles into clusters to identify \n",
    "patterns. \n",
    "• Principal Component Analysis (PCA): Reduce data dimensionality and test its effect on your \n",
    "models. \n",
    "Tasks and guidelines \n",
    "\n",
    "TASK 1) EDA: Exploratory Data Analysis (EDA) of potential input variables for your forecasting model.  \n",
    "\n",
    "TASK 2) Develop a machine learning model (supervised) to forecast the day ahead electricity price in Spain.  \n",
    "To obtain the target data, access the Esios website and download historical spot electricity prices. Possible \n",
    "input data can also be searched on this website. Some general guidelines for developing your model are \n",
    "detailed below. \n",
    "1) Understand your data set. Use descriptive statistics and data visualization tools. \n",
    "2) Data analysis of the data. Important! Prepare your dataset. Clean it and transform it, if needed.  \n",
    "3) Think about possible feature selection for your model.  \n",
    "4) Split the dataset into training and test. \n",
    "5) Train your model using different ML. \n",
    "6) Evaluate your model, adjust hyperparameters and retrain it if needed +. \n",
    "7) Validate your model using the following regression metrics: RMSE, MAE and R2. \n",
    "\n",
    "TASK 3) Create a clustering model to group the daily SPOT electricity price profiles in different clusters.  \n",
    "Use two clustering techniques (e.g., K-means, hierarchical clustering, DBSCAN…) to identify patterns or \n",
    "segments in the data based on historical electricity prices and other features, if necessary. Compare the \n",
    "results. Are they similar? \n",
    "\n",
    "TASK 4) Test the regression and clustering methods using PCA \n",
    "Submission Requirements: \n",
    "Jupyter Notebook: \n",
    "• Include all your code for data analysis, model development, and evaluation. Inside this file, \n",
    "SEPARATE the different Tasks. \n",
    "• Ensure the notebook is well-organized with clear explanations and comments. \n",
    "Report (PDF): \n",
    "• Summarize your methodology, findings, and conclusions. It should have an index and sections \n",
    "explaining the main key findings. Include key visualizations and tables. \n",
    "• Discuss any challenges faced and how you addressed them.  \n",
    "\n",
    "Deadline: Final Report to be submitted before the end of the day on December 20th. Be sure to cite external \n",
    "resources or libraries you use. Your work should be original and reflect your understanding of machine \n",
    "learning concepts applied to real-world data."
   ]
  },
  {
   "cell_type": "code",
   "execution_count": 2,
   "metadata": {},
   "outputs": [],
   "source": [
    "import numpy as np\n",
    "import pandas as pd\n",
    "import matplotlib.pyplot as plt"
   ]
  },
  {
   "cell_type": "code",
   "execution_count": 21,
   "metadata": {},
   "outputs": [],
   "source": [
    "#GM\n",
    "\n",
    "# Carga dataset\n",
    "\n",
    "names = ['id','name','geoid','geoname','value','datetime']\n",
    "\n",
    "dataset19 = pd.read_csv('export_PrecioMercadoSPOTDiario_2019.csv', sep=';')\n",
    "dataset20 = pd.read_csv('export_PrecioMercadoSPOTDiario_2020.csv', sep=';')\n",
    "dataset21 = pd.read_csv('export_PrecioMercadoSPOTDiario_2021.csv', sep=';')\n",
    "dataset22 = pd.read_csv('export_PrecioMercadoSPOTDiario_2022.csv', sep=';')\n",
    "dataset23 = pd.read_csv('export_PrecioMercadoSPOTDiario_2023.csv', sep=';')\n",
    "\n",
    "\n",
    "\n"
   ]
  },
  {
   "cell_type": "code",
   "execution_count": null,
   "metadata": {},
   "outputs": [
    {
     "name": "stdout",
     "output_type": "stream",
     "text": [
      "id            int64\n",
      "name         object\n",
      "geoid         int64\n",
      "geoname      object\n",
      "value       float64\n",
      "datetime     object\n",
      "dtype: object\n",
      "\n",
      "\n",
      "id                        int64\n",
      "name                     object\n",
      "geoid                     int64\n",
      "geoname                  object\n",
      "value                   float64\n",
      "datetime    datetime64[ns, UTC]\n",
      "dtype: object\n"
     ]
    }
   ],
   "source": [
    "#TASK 1\n",
    "\n",
    "data19 = dataset19\n",
    "data20 = dataset20\n",
    "data21 = dataset21\n",
    "data22 = dataset22\n",
    "data23 = dataset23\n",
    "\n",
    "datasets = [dataset19, dataset20, dataset21, dataset22, dataset23]\n",
    "\n",
    "print(dataset19.dtypes)\n",
    "\n",
    "#Casting datetime\n",
    "for data in datasets:\n",
    "        data['datetime'] = pd.to_datetime(data['datetime'], utc=True)  # Realiza el casting a datetime\n",
    "\n",
    "print('\\n')\n",
    "print(data19.dtypes)"
   ]
  }
 ],
 "metadata": {
  "kernelspec": {
   "display_name": "Python 3",
   "language": "python",
   "name": "python3"
  },
  "language_info": {
   "codemirror_mode": {
    "name": "ipython",
    "version": 3
   },
   "file_extension": ".py",
   "mimetype": "text/x-python",
   "name": "python",
   "nbconvert_exporter": "python",
   "pygments_lexer": "ipython3",
   "version": "3.11.9"
  }
 },
 "nbformat": 4,
 "nbformat_minor": 2
}
